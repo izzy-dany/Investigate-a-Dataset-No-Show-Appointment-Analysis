{
 "cells": [
  {
   "cell_type": "markdown",
   "id": "79fbe6aa",
   "metadata": {},
   "source": [
    "# Project:No Show Appointment Analysis\n",
    "\n",
    "## Table of Contents\n",
    "<ul>\n",
    "<li><a href=\"#intro\">Introduction</a></li>\n",
    "<li><a href=\"#wrangling\">Data Wrangling</a></li>\n",
    "<li><a href=\"#eda\">Exploratory Data Analysis</a></li>\n",
    "<li><a href=\"#conclusions\">Conclusions</a></li>\n",
    "</ul>"
   ]
  },
  {
   "cell_type": "markdown",
   "id": "bdb65c5c",
   "metadata": {},
   "source": [
    "<a id='intro'></a>\n",
    "## Introduction\n",
    "\n",
    "### Dataset Description \n",
    "Context\n",
    "A person makes a doctor appointment, receives all the instructions and no-show. Who is to be blamed?\n",
    "\n",
    "Content\n",
    "110.527 medical appointments its 14 associated variables (characteristics). The most important one if the patient show-up or no-show to the appointment. Variable names are self-explanatory.\n",
    "\n",
    "scholarship variable means this concept [here](https://en.wikipedia.org/wiki/Bolsa_Fam%C3%ADlia).\n",
    "\n",
    "14 variables\n",
    "\n",
    "Data Dictionary\n",
    "01 - PatientId\n",
    "Identification of a patient\n",
    "02 - AppointmentID\n",
    "Identification of each appointment\n",
    "03 - Gender\n",
    "Male or Female . Female is the greater proportion, woman takes way more care of their health in comparison to man.\n",
    "04 - ScheduledDay\n",
    "The day of the actual appointment, when they have to visit the doctor.\n",
    "05 - AppointmentDay\n",
    "The day someone called or registered the appointment, this is before appointment of course.\n",
    "06 - Age\n",
    "How old the patient is.\n",
    "07 - Neighbourhood\n",
    "Where the appointment takes place.\n",
    "08 - Scholarship\n",
    "True or False. Observation, this is a broad topic, consider reading this article [here](https://en.wikipedia.org/wiki/Bolsa_Fam%C3%ADlia).\n",
    "09 - Hipertension\n",
    "True or False\n",
    "10 - Diabetes\n",
    "True or False\n",
    "Alcoholism\n",
    "True or False\n",
    "Handcap\n",
    "True or False\n",
    "SMS_received\n",
    "1 or more messages sent to the patient.\n",
    "No-show\n",
    "True or False.\n",
    "\n",
    "\n",
    "\n",
    "### Questions for Analysis\n",
    ">**1.** Does the Neighbourhood affect the chances of patients showing up?\n",
    "\n",
    ">**2.** Will receiving an sms from the hospital affect the chances of patients showing up?\n",
    "\n",
    ">**3.** Can scholarships affect the chances of patients showing up?\n",
    "\n",
    ">**4.**  Can a patient's age affect the chances of him/her showing up?\n",
    "\n",
    ">**5.** Can the Gender of patients influence the attendance rate?"
   ]
  },
  {
   "cell_type": "code",
   "execution_count": 1,
   "id": "796f3391",
   "metadata": {},
   "outputs": [],
   "source": [
    "#importing required packages for the data analysis.\n",
    "import pandas as pd\n",
    "import numpy as np\n",
    "import matplotlib.pyplot as plt\n",
    "import seaborn as sns\n",
    "%matplotlib inline"
   ]
  },
  {
   "cell_type": "markdown",
   "id": "1d4c189e",
   "metadata": {},
   "source": [
    "<a id='wrangling'></a>\n",
    "## Data Wrangling"
   ]
  },
  {
   "cell_type": "code",
   "execution_count": 2,
   "id": "f106d764",
   "metadata": {},
   "outputs": [],
   "source": [
    "#loaded the csv_data to be analysed.\n",
    "df = pd.read_csv('noshowappointments-kagglev2-may-2016.csv')"
   ]
  },
  {
   "cell_type": "code",
   "execution_count": 3,
   "id": "316cc4c7",
   "metadata": {},
   "outputs": [
    {
     "data": {
      "text/html": [
       "<div>\n",
       "<style scoped>\n",
       "    .dataframe tbody tr th:only-of-type {\n",
       "        vertical-align: middle;\n",
       "    }\n",
       "\n",
       "    .dataframe tbody tr th {\n",
       "        vertical-align: top;\n",
       "    }\n",
       "\n",
       "    .dataframe thead th {\n",
       "        text-align: right;\n",
       "    }\n",
       "</style>\n",
       "<table border=\"1\" class=\"dataframe\">\n",
       "  <thead>\n",
       "    <tr style=\"text-align: right;\">\n",
       "      <th></th>\n",
       "      <th>PatientId</th>\n",
       "      <th>AppointmentID</th>\n",
       "      <th>Gender</th>\n",
       "      <th>ScheduledDay</th>\n",
       "      <th>AppointmentDay</th>\n",
       "      <th>Age</th>\n",
       "      <th>Neighbourhood</th>\n",
       "      <th>Scholarship</th>\n",
       "      <th>Hipertension</th>\n",
       "      <th>Diabetes</th>\n",
       "      <th>Alcoholism</th>\n",
       "      <th>Handcap</th>\n",
       "      <th>SMS_received</th>\n",
       "      <th>No-show</th>\n",
       "    </tr>\n",
       "  </thead>\n",
       "  <tbody>\n",
       "    <tr>\n",
       "      <th>0</th>\n",
       "      <td>2.987250e+13</td>\n",
       "      <td>5642903</td>\n",
       "      <td>F</td>\n",
       "      <td>2016-04-29T18:38:08Z</td>\n",
       "      <td>2016-04-29T00:00:00Z</td>\n",
       "      <td>62</td>\n",
       "      <td>JARDIM DA PENHA</td>\n",
       "      <td>0</td>\n",
       "      <td>1</td>\n",
       "      <td>0</td>\n",
       "      <td>0</td>\n",
       "      <td>0</td>\n",
       "      <td>0</td>\n",
       "      <td>No</td>\n",
       "    </tr>\n",
       "    <tr>\n",
       "      <th>1</th>\n",
       "      <td>5.589978e+14</td>\n",
       "      <td>5642503</td>\n",
       "      <td>M</td>\n",
       "      <td>2016-04-29T16:08:27Z</td>\n",
       "      <td>2016-04-29T00:00:00Z</td>\n",
       "      <td>56</td>\n",
       "      <td>JARDIM DA PENHA</td>\n",
       "      <td>0</td>\n",
       "      <td>0</td>\n",
       "      <td>0</td>\n",
       "      <td>0</td>\n",
       "      <td>0</td>\n",
       "      <td>0</td>\n",
       "      <td>No</td>\n",
       "    </tr>\n",
       "    <tr>\n",
       "      <th>2</th>\n",
       "      <td>4.262962e+12</td>\n",
       "      <td>5642549</td>\n",
       "      <td>F</td>\n",
       "      <td>2016-04-29T16:19:04Z</td>\n",
       "      <td>2016-04-29T00:00:00Z</td>\n",
       "      <td>62</td>\n",
       "      <td>MATA DA PRAIA</td>\n",
       "      <td>0</td>\n",
       "      <td>0</td>\n",
       "      <td>0</td>\n",
       "      <td>0</td>\n",
       "      <td>0</td>\n",
       "      <td>0</td>\n",
       "      <td>No</td>\n",
       "    </tr>\n",
       "    <tr>\n",
       "      <th>3</th>\n",
       "      <td>8.679512e+11</td>\n",
       "      <td>5642828</td>\n",
       "      <td>F</td>\n",
       "      <td>2016-04-29T17:29:31Z</td>\n",
       "      <td>2016-04-29T00:00:00Z</td>\n",
       "      <td>8</td>\n",
       "      <td>PONTAL DE CAMBURI</td>\n",
       "      <td>0</td>\n",
       "      <td>0</td>\n",
       "      <td>0</td>\n",
       "      <td>0</td>\n",
       "      <td>0</td>\n",
       "      <td>0</td>\n",
       "      <td>No</td>\n",
       "    </tr>\n",
       "    <tr>\n",
       "      <th>4</th>\n",
       "      <td>8.841186e+12</td>\n",
       "      <td>5642494</td>\n",
       "      <td>F</td>\n",
       "      <td>2016-04-29T16:07:23Z</td>\n",
       "      <td>2016-04-29T00:00:00Z</td>\n",
       "      <td>56</td>\n",
       "      <td>JARDIM DA PENHA</td>\n",
       "      <td>0</td>\n",
       "      <td>1</td>\n",
       "      <td>1</td>\n",
       "      <td>0</td>\n",
       "      <td>0</td>\n",
       "      <td>0</td>\n",
       "      <td>No</td>\n",
       "    </tr>\n",
       "  </tbody>\n",
       "</table>\n",
       "</div>"
      ],
      "text/plain": [
       "      PatientId  AppointmentID Gender          ScheduledDay  \\\n",
       "0  2.987250e+13        5642903      F  2016-04-29T18:38:08Z   \n",
       "1  5.589978e+14        5642503      M  2016-04-29T16:08:27Z   \n",
       "2  4.262962e+12        5642549      F  2016-04-29T16:19:04Z   \n",
       "3  8.679512e+11        5642828      F  2016-04-29T17:29:31Z   \n",
       "4  8.841186e+12        5642494      F  2016-04-29T16:07:23Z   \n",
       "\n",
       "         AppointmentDay  Age      Neighbourhood  Scholarship  Hipertension  \\\n",
       "0  2016-04-29T00:00:00Z   62    JARDIM DA PENHA            0             1   \n",
       "1  2016-04-29T00:00:00Z   56    JARDIM DA PENHA            0             0   \n",
       "2  2016-04-29T00:00:00Z   62      MATA DA PRAIA            0             0   \n",
       "3  2016-04-29T00:00:00Z    8  PONTAL DE CAMBURI            0             0   \n",
       "4  2016-04-29T00:00:00Z   56    JARDIM DA PENHA            0             1   \n",
       "\n",
       "   Diabetes  Alcoholism  Handcap  SMS_received No-show  \n",
       "0         0           0        0             0      No  \n",
       "1         0           0        0             0      No  \n",
       "2         0           0        0             0      No  \n",
       "3         0           0        0             0      No  \n",
       "4         1           0        0             0      No  "
      ]
     },
     "execution_count": 3,
     "metadata": {},
     "output_type": "execute_result"
    }
   ],
   "source": [
    "#to view the first five rows of the data\n",
    "df.head()"
   ]
  },
  {
   "cell_type": "code",
   "execution_count": 4,
   "id": "28f7859d",
   "metadata": {},
   "outputs": [
    {
     "data": {
      "text/html": [
       "<div>\n",
       "<style scoped>\n",
       "    .dataframe tbody tr th:only-of-type {\n",
       "        vertical-align: middle;\n",
       "    }\n",
       "\n",
       "    .dataframe tbody tr th {\n",
       "        vertical-align: top;\n",
       "    }\n",
       "\n",
       "    .dataframe thead th {\n",
       "        text-align: right;\n",
       "    }\n",
       "</style>\n",
       "<table border=\"1\" class=\"dataframe\">\n",
       "  <thead>\n",
       "    <tr style=\"text-align: right;\">\n",
       "      <th></th>\n",
       "      <th>PatientId</th>\n",
       "      <th>AppointmentID</th>\n",
       "      <th>Gender</th>\n",
       "      <th>ScheduledDay</th>\n",
       "      <th>AppointmentDay</th>\n",
       "      <th>Age</th>\n",
       "      <th>Neighbourhood</th>\n",
       "      <th>Scholarship</th>\n",
       "      <th>Hipertension</th>\n",
       "      <th>Diabetes</th>\n",
       "      <th>Alcoholism</th>\n",
       "      <th>Handcap</th>\n",
       "      <th>SMS_received</th>\n",
       "      <th>No-show</th>\n",
       "    </tr>\n",
       "  </thead>\n",
       "  <tbody>\n",
       "    <tr>\n",
       "      <th>110522</th>\n",
       "      <td>2.572134e+12</td>\n",
       "      <td>5651768</td>\n",
       "      <td>F</td>\n",
       "      <td>2016-05-03T09:15:35Z</td>\n",
       "      <td>2016-06-07T00:00:00Z</td>\n",
       "      <td>56</td>\n",
       "      <td>MARIA ORTIZ</td>\n",
       "      <td>0</td>\n",
       "      <td>0</td>\n",
       "      <td>0</td>\n",
       "      <td>0</td>\n",
       "      <td>0</td>\n",
       "      <td>1</td>\n",
       "      <td>No</td>\n",
       "    </tr>\n",
       "    <tr>\n",
       "      <th>110523</th>\n",
       "      <td>3.596266e+12</td>\n",
       "      <td>5650093</td>\n",
       "      <td>F</td>\n",
       "      <td>2016-05-03T07:27:33Z</td>\n",
       "      <td>2016-06-07T00:00:00Z</td>\n",
       "      <td>51</td>\n",
       "      <td>MARIA ORTIZ</td>\n",
       "      <td>0</td>\n",
       "      <td>0</td>\n",
       "      <td>0</td>\n",
       "      <td>0</td>\n",
       "      <td>0</td>\n",
       "      <td>1</td>\n",
       "      <td>No</td>\n",
       "    </tr>\n",
       "    <tr>\n",
       "      <th>110524</th>\n",
       "      <td>1.557663e+13</td>\n",
       "      <td>5630692</td>\n",
       "      <td>F</td>\n",
       "      <td>2016-04-27T16:03:52Z</td>\n",
       "      <td>2016-06-07T00:00:00Z</td>\n",
       "      <td>21</td>\n",
       "      <td>MARIA ORTIZ</td>\n",
       "      <td>0</td>\n",
       "      <td>0</td>\n",
       "      <td>0</td>\n",
       "      <td>0</td>\n",
       "      <td>0</td>\n",
       "      <td>1</td>\n",
       "      <td>No</td>\n",
       "    </tr>\n",
       "    <tr>\n",
       "      <th>110525</th>\n",
       "      <td>9.213493e+13</td>\n",
       "      <td>5630323</td>\n",
       "      <td>F</td>\n",
       "      <td>2016-04-27T15:09:23Z</td>\n",
       "      <td>2016-06-07T00:00:00Z</td>\n",
       "      <td>38</td>\n",
       "      <td>MARIA ORTIZ</td>\n",
       "      <td>0</td>\n",
       "      <td>0</td>\n",
       "      <td>0</td>\n",
       "      <td>0</td>\n",
       "      <td>0</td>\n",
       "      <td>1</td>\n",
       "      <td>No</td>\n",
       "    </tr>\n",
       "    <tr>\n",
       "      <th>110526</th>\n",
       "      <td>3.775115e+14</td>\n",
       "      <td>5629448</td>\n",
       "      <td>F</td>\n",
       "      <td>2016-04-27T13:30:56Z</td>\n",
       "      <td>2016-06-07T00:00:00Z</td>\n",
       "      <td>54</td>\n",
       "      <td>MARIA ORTIZ</td>\n",
       "      <td>0</td>\n",
       "      <td>0</td>\n",
       "      <td>0</td>\n",
       "      <td>0</td>\n",
       "      <td>0</td>\n",
       "      <td>1</td>\n",
       "      <td>No</td>\n",
       "    </tr>\n",
       "  </tbody>\n",
       "</table>\n",
       "</div>"
      ],
      "text/plain": [
       "           PatientId  AppointmentID Gender          ScheduledDay  \\\n",
       "110522  2.572134e+12        5651768      F  2016-05-03T09:15:35Z   \n",
       "110523  3.596266e+12        5650093      F  2016-05-03T07:27:33Z   \n",
       "110524  1.557663e+13        5630692      F  2016-04-27T16:03:52Z   \n",
       "110525  9.213493e+13        5630323      F  2016-04-27T15:09:23Z   \n",
       "110526  3.775115e+14        5629448      F  2016-04-27T13:30:56Z   \n",
       "\n",
       "              AppointmentDay  Age Neighbourhood  Scholarship  Hipertension  \\\n",
       "110522  2016-06-07T00:00:00Z   56   MARIA ORTIZ            0             0   \n",
       "110523  2016-06-07T00:00:00Z   51   MARIA ORTIZ            0             0   \n",
       "110524  2016-06-07T00:00:00Z   21   MARIA ORTIZ            0             0   \n",
       "110525  2016-06-07T00:00:00Z   38   MARIA ORTIZ            0             0   \n",
       "110526  2016-06-07T00:00:00Z   54   MARIA ORTIZ            0             0   \n",
       "\n",
       "        Diabetes  Alcoholism  Handcap  SMS_received No-show  \n",
       "110522         0           0        0             1      No  \n",
       "110523         0           0        0             1      No  \n",
       "110524         0           0        0             1      No  \n",
       "110525         0           0        0             1      No  \n",
       "110526         0           0        0             1      No  "
      ]
     },
     "execution_count": 4,
     "metadata": {},
     "output_type": "execute_result"
    }
   ],
   "source": [
    "#to view the last five rows of the data\n",
    "df.tail()"
   ]
  },
  {
   "cell_type": "markdown",
   "id": "e919e3bd",
   "metadata": {},
   "source": [
    "Inspecting the datatypes"
   ]
  },
  {
   "cell_type": "code",
   "execution_count": 5,
   "id": "c998e6f0",
   "metadata": {},
   "outputs": [
    {
     "name": "stdout",
     "output_type": "stream",
     "text": [
      "<class 'pandas.core.frame.DataFrame'>\n",
      "RangeIndex: 110527 entries, 0 to 110526\n",
      "Data columns (total 14 columns):\n",
      " #   Column          Non-Null Count   Dtype  \n",
      "---  ------          --------------   -----  \n",
      " 0   PatientId       110527 non-null  float64\n",
      " 1   AppointmentID   110527 non-null  int64  \n",
      " 2   Gender          110527 non-null  object \n",
      " 3   ScheduledDay    110527 non-null  object \n",
      " 4   AppointmentDay  110527 non-null  object \n",
      " 5   Age             110527 non-null  int64  \n",
      " 6   Neighbourhood   110527 non-null  object \n",
      " 7   Scholarship     110527 non-null  int64  \n",
      " 8   Hipertension    110527 non-null  int64  \n",
      " 9   Diabetes        110527 non-null  int64  \n",
      " 10  Alcoholism      110527 non-null  int64  \n",
      " 11  Handcap         110527 non-null  int64  \n",
      " 12  SMS_received    110527 non-null  int64  \n",
      " 13  No-show         110527 non-null  object \n",
      "dtypes: float64(1), int64(8), object(5)\n",
      "memory usage: 11.8+ MB\n"
     ]
    }
   ],
   "source": [
    "#to view a general summary of the data, including the various datatypes and total count\n",
    "df.info()"
   ]
  },
  {
   "cell_type": "markdown",
   "id": "e54f32b8",
   "metadata": {},
   "source": [
    "To view a descriptive analysis of the whole data"
   ]
  },
  {
   "cell_type": "code",
   "execution_count": 6,
   "id": "031ccdad",
   "metadata": {},
   "outputs": [
    {
     "data": {
      "text/plain": [
       "(110527, 14)"
      ]
     },
     "execution_count": 6,
     "metadata": {},
     "output_type": "execute_result"
    }
   ],
   "source": [
    "#to get the dimensions of the data\n",
    "df.shape"
   ]
  },
  {
   "cell_type": "markdown",
   "id": "8a23494b",
   "metadata": {},
   "source": [
    "To check for the sum of missing values for all the data"
   ]
  },
  {
   "cell_type": "code",
   "execution_count": 7,
   "id": "f2b0097e",
   "metadata": {},
   "outputs": [
    {
     "data": {
      "text/plain": [
       "PatientId         0\n",
       "AppointmentID     0\n",
       "Gender            0\n",
       "ScheduledDay      0\n",
       "AppointmentDay    0\n",
       "Age               0\n",
       "Neighbourhood     0\n",
       "Scholarship       0\n",
       "Hipertension      0\n",
       "Diabetes          0\n",
       "Alcoholism        0\n",
       "Handcap           0\n",
       "SMS_received      0\n",
       "No-show           0\n",
       "dtype: int64"
      ]
     },
     "execution_count": 7,
     "metadata": {},
     "output_type": "execute_result"
    }
   ],
   "source": [
    "#check the sum of all missing values in the data\n",
    "df.isnull().sum()"
   ]
  },
  {
   "cell_type": "markdown",
   "id": "c58c0e4b",
   "metadata": {},
   "source": [
    "From the observation above, the data contains no missing value"
   ]
  },
  {
   "cell_type": "code",
   "execution_count": 8,
   "id": "3b8651f4",
   "metadata": {},
   "outputs": [
    {
     "data": {
      "text/plain": [
       "PatientId          62299\n",
       "AppointmentID     110527\n",
       "Gender                 2\n",
       "ScheduledDay      103549\n",
       "AppointmentDay        27\n",
       "Age                  104\n",
       "Neighbourhood         81\n",
       "Scholarship            2\n",
       "Hipertension           2\n",
       "Diabetes               2\n",
       "Alcoholism             2\n",
       "Handcap                5\n",
       "SMS_received           2\n",
       "No-show                2\n",
       "dtype: int64"
      ]
     },
     "execution_count": 8,
     "metadata": {},
     "output_type": "execute_result"
    }
   ],
   "source": [
    "#check for unique values in each column\n",
    "df.nunique()"
   ]
  },
  {
   "cell_type": "markdown",
   "id": "f4e35e53",
   "metadata": {},
   "source": [
    "From the values above, there is a big difference between count of PatientID and count of AppointmentID, which could be as a result of duplicated data. So I will check for duplicates in both PatientID and No_show to trim out any duplicated data."
   ]
  },
  {
   "cell_type": "markdown",
   "id": "e237bc9f",
   "metadata": {},
   "source": [
    "To check for duplicates"
   ]
  },
  {
   "cell_type": "code",
   "execution_count": 9,
   "id": "f7f2b12b",
   "metadata": {},
   "outputs": [
    {
     "data": {
      "text/plain": [
       "0"
      ]
     },
     "execution_count": 9,
     "metadata": {},
     "output_type": "execute_result"
    }
   ],
   "source": [
    "df.duplicated().sum()"
   ]
  },
  {
   "cell_type": "markdown",
   "id": "bd01ff70",
   "metadata": {},
   "source": [
    "To check for duplicates in patients id"
   ]
  },
  {
   "cell_type": "code",
   "execution_count": 10,
   "id": "f76ac00b",
   "metadata": {},
   "outputs": [
    {
     "data": {
      "text/plain": [
       "48228"
      ]
     },
     "execution_count": 10,
     "metadata": {},
     "output_type": "execute_result"
    }
   ],
   "source": [
    "#check the sum of duplicated values in the 'PatientId' column\n",
    "df['PatientId'].duplicated().sum()"
   ]
  },
  {
   "cell_type": "code",
   "execution_count": 11,
   "id": "75cd194e",
   "metadata": {},
   "outputs": [
    {
     "data": {
      "text/plain": [
       "38710"
      ]
     },
     "execution_count": 11,
     "metadata": {},
     "output_type": "execute_result"
    }
   ],
   "source": [
    "#check the sum of duplicated values in both the PatientId column and No-show column which will be cleaned out\n",
    "df.duplicated(['PatientId', 'No-show']).sum()"
   ]
  },
  {
   "cell_type": "markdown",
   "id": "2e4d70c8",
   "metadata": {},
   "source": [
    "Okay, so there are 38710 occurrances of same data for both PatientId and No_show, which I will clean out"
   ]
  },
  {
   "cell_type": "code",
   "execution_count": 12,
   "id": "731f67c1",
   "metadata": {},
   "outputs": [],
   "source": [
    "#drops the duplicated values found in the step above and updates the data with the change\n",
    "df.drop_duplicates(['PatientId', 'No-show'], inplace=True)"
   ]
  },
  {
   "cell_type": "code",
   "execution_count": 13,
   "id": "9e37d820",
   "metadata": {},
   "outputs": [
    {
     "data": {
      "text/html": [
       "<div>\n",
       "<style scoped>\n",
       "    .dataframe tbody tr th:only-of-type {\n",
       "        vertical-align: middle;\n",
       "    }\n",
       "\n",
       "    .dataframe tbody tr th {\n",
       "        vertical-align: top;\n",
       "    }\n",
       "\n",
       "    .dataframe thead th {\n",
       "        text-align: right;\n",
       "    }\n",
       "</style>\n",
       "<table border=\"1\" class=\"dataframe\">\n",
       "  <thead>\n",
       "    <tr style=\"text-align: right;\">\n",
       "      <th></th>\n",
       "      <th>PatientId</th>\n",
       "      <th>AppointmentID</th>\n",
       "      <th>Age</th>\n",
       "      <th>Scholarship</th>\n",
       "      <th>Hipertension</th>\n",
       "      <th>Diabetes</th>\n",
       "      <th>Alcoholism</th>\n",
       "      <th>Handcap</th>\n",
       "      <th>SMS_received</th>\n",
       "    </tr>\n",
       "  </thead>\n",
       "  <tbody>\n",
       "    <tr>\n",
       "      <th>count</th>\n",
       "      <td>7.181700e+04</td>\n",
       "      <td>7.181700e+04</td>\n",
       "      <td>71817.000000</td>\n",
       "      <td>71817.000000</td>\n",
       "      <td>71817.000000</td>\n",
       "      <td>71817.000000</td>\n",
       "      <td>71817.000000</td>\n",
       "      <td>71817.000000</td>\n",
       "      <td>71817.000000</td>\n",
       "    </tr>\n",
       "    <tr>\n",
       "      <th>mean</th>\n",
       "      <td>1.466294e+14</td>\n",
       "      <td>5.666495e+06</td>\n",
       "      <td>36.526978</td>\n",
       "      <td>0.095534</td>\n",
       "      <td>0.195065</td>\n",
       "      <td>0.070958</td>\n",
       "      <td>0.025036</td>\n",
       "      <td>0.020135</td>\n",
       "      <td>0.335561</td>\n",
       "    </tr>\n",
       "    <tr>\n",
       "      <th>std</th>\n",
       "      <td>2.544927e+14</td>\n",
       "      <td>7.313144e+04</td>\n",
       "      <td>23.378518</td>\n",
       "      <td>0.293954</td>\n",
       "      <td>0.396254</td>\n",
       "      <td>0.256757</td>\n",
       "      <td>0.156235</td>\n",
       "      <td>0.155337</td>\n",
       "      <td>0.472190</td>\n",
       "    </tr>\n",
       "    <tr>\n",
       "      <th>min</th>\n",
       "      <td>3.921784e+04</td>\n",
       "      <td>5.030230e+06</td>\n",
       "      <td>-1.000000</td>\n",
       "      <td>0.000000</td>\n",
       "      <td>0.000000</td>\n",
       "      <td>0.000000</td>\n",
       "      <td>0.000000</td>\n",
       "      <td>0.000000</td>\n",
       "      <td>0.000000</td>\n",
       "    </tr>\n",
       "    <tr>\n",
       "      <th>25%</th>\n",
       "      <td>4.175978e+12</td>\n",
       "      <td>5.631622e+06</td>\n",
       "      <td>17.000000</td>\n",
       "      <td>0.000000</td>\n",
       "      <td>0.000000</td>\n",
       "      <td>0.000000</td>\n",
       "      <td>0.000000</td>\n",
       "      <td>0.000000</td>\n",
       "      <td>0.000000</td>\n",
       "    </tr>\n",
       "    <tr>\n",
       "      <th>50%</th>\n",
       "      <td>3.189717e+13</td>\n",
       "      <td>5.672884e+06</td>\n",
       "      <td>36.000000</td>\n",
       "      <td>0.000000</td>\n",
       "      <td>0.000000</td>\n",
       "      <td>0.000000</td>\n",
       "      <td>0.000000</td>\n",
       "      <td>0.000000</td>\n",
       "      <td>0.000000</td>\n",
       "    </tr>\n",
       "    <tr>\n",
       "      <th>75%</th>\n",
       "      <td>9.457487e+13</td>\n",
       "      <td>5.716568e+06</td>\n",
       "      <td>55.000000</td>\n",
       "      <td>0.000000</td>\n",
       "      <td>0.000000</td>\n",
       "      <td>0.000000</td>\n",
       "      <td>0.000000</td>\n",
       "      <td>0.000000</td>\n",
       "      <td>1.000000</td>\n",
       "    </tr>\n",
       "    <tr>\n",
       "      <th>max</th>\n",
       "      <td>9.999816e+14</td>\n",
       "      <td>5.790484e+06</td>\n",
       "      <td>115.000000</td>\n",
       "      <td>1.000000</td>\n",
       "      <td>1.000000</td>\n",
       "      <td>1.000000</td>\n",
       "      <td>1.000000</td>\n",
       "      <td>4.000000</td>\n",
       "      <td>1.000000</td>\n",
       "    </tr>\n",
       "  </tbody>\n",
       "</table>\n",
       "</div>"
      ],
      "text/plain": [
       "          PatientId  AppointmentID           Age   Scholarship  Hipertension  \\\n",
       "count  7.181700e+04   7.181700e+04  71817.000000  71817.000000  71817.000000   \n",
       "mean   1.466294e+14   5.666495e+06     36.526978      0.095534      0.195065   \n",
       "std    2.544927e+14   7.313144e+04     23.378518      0.293954      0.396254   \n",
       "min    3.921784e+04   5.030230e+06     -1.000000      0.000000      0.000000   \n",
       "25%    4.175978e+12   5.631622e+06     17.000000      0.000000      0.000000   \n",
       "50%    3.189717e+13   5.672884e+06     36.000000      0.000000      0.000000   \n",
       "75%    9.457487e+13   5.716568e+06     55.000000      0.000000      0.000000   \n",
       "max    9.999816e+14   5.790484e+06    115.000000      1.000000      1.000000   \n",
       "\n",
       "           Diabetes    Alcoholism       Handcap  SMS_received  \n",
       "count  71817.000000  71817.000000  71817.000000  71817.000000  \n",
       "mean       0.070958      0.025036      0.020135      0.335561  \n",
       "std        0.256757      0.156235      0.155337      0.472190  \n",
       "min        0.000000      0.000000      0.000000      0.000000  \n",
       "25%        0.000000      0.000000      0.000000      0.000000  \n",
       "50%        0.000000      0.000000      0.000000      0.000000  \n",
       "75%        0.000000      0.000000      0.000000      1.000000  \n",
       "max        1.000000      1.000000      4.000000      1.000000  "
      ]
     },
     "execution_count": 13,
     "metadata": {},
     "output_type": "execute_result"
    }
   ],
   "source": [
    "#outputs the descriptive statistics of the data\n",
    "df.describe()"
   ]
  },
  {
   "cell_type": "markdown",
   "id": "866fc272",
   "metadata": {},
   "source": [
    "From the descriptive statistics above, it can  be infered that the mean for the age column is 32, the mininum age is -1 which must have been a typo error and will be trimmed out, more than 75% of the patients were not on scholarship. Also, more than 75% of the patients did not have hypertension or diabetes or were alcoholic or were handicapped."
   ]
  },
  {
   "cell_type": "markdown",
   "id": "cccebcf6",
   "metadata": {},
   "source": [
    "Trim the typo error (-1) in the age column"
   ]
  },
  {
   "cell_type": "code",
   "execution_count": 14,
   "id": "1bc61766",
   "metadata": {},
   "outputs": [],
   "source": [
    "#Picks out the error row that contains the '-1' value in the Age column\n",
    "df.query('Age == \"-1\"')\n",
    "#drops the row containing the typo error\n",
    "df.drop(index=99832, inplace=True)"
   ]
  },
  {
   "cell_type": "code",
   "execution_count": 15,
   "id": "ee58e54b",
   "metadata": {},
   "outputs": [
    {
     "data": {
      "text/html": [
       "<div>\n",
       "<style scoped>\n",
       "    .dataframe tbody tr th:only-of-type {\n",
       "        vertical-align: middle;\n",
       "    }\n",
       "\n",
       "    .dataframe tbody tr th {\n",
       "        vertical-align: top;\n",
       "    }\n",
       "\n",
       "    .dataframe thead th {\n",
       "        text-align: right;\n",
       "    }\n",
       "</style>\n",
       "<table border=\"1\" class=\"dataframe\">\n",
       "  <thead>\n",
       "    <tr style=\"text-align: right;\">\n",
       "      <th></th>\n",
       "      <th>PatientId</th>\n",
       "      <th>AppointmentID</th>\n",
       "      <th>Age</th>\n",
       "      <th>Scholarship</th>\n",
       "      <th>Hipertension</th>\n",
       "      <th>Diabetes</th>\n",
       "      <th>Alcoholism</th>\n",
       "      <th>Handcap</th>\n",
       "      <th>SMS_received</th>\n",
       "    </tr>\n",
       "  </thead>\n",
       "  <tbody>\n",
       "    <tr>\n",
       "      <th>count</th>\n",
       "      <td>7.181600e+04</td>\n",
       "      <td>7.181600e+04</td>\n",
       "      <td>71816.000000</td>\n",
       "      <td>71816.000000</td>\n",
       "      <td>71816.000000</td>\n",
       "      <td>71816.000000</td>\n",
       "      <td>71816.000000</td>\n",
       "      <td>71816.000000</td>\n",
       "      <td>71816.000000</td>\n",
       "    </tr>\n",
       "    <tr>\n",
       "      <th>mean</th>\n",
       "      <td>1.466249e+14</td>\n",
       "      <td>5.666493e+06</td>\n",
       "      <td>36.527501</td>\n",
       "      <td>0.095536</td>\n",
       "      <td>0.195068</td>\n",
       "      <td>0.070959</td>\n",
       "      <td>0.025036</td>\n",
       "      <td>0.020135</td>\n",
       "      <td>0.335566</td>\n",
       "    </tr>\n",
       "    <tr>\n",
       "      <th>std</th>\n",
       "      <td>2.544917e+14</td>\n",
       "      <td>7.313083e+04</td>\n",
       "      <td>23.378262</td>\n",
       "      <td>0.293956</td>\n",
       "      <td>0.396256</td>\n",
       "      <td>0.256758</td>\n",
       "      <td>0.156236</td>\n",
       "      <td>0.155338</td>\n",
       "      <td>0.472191</td>\n",
       "    </tr>\n",
       "    <tr>\n",
       "      <th>min</th>\n",
       "      <td>3.921784e+04</td>\n",
       "      <td>5.030230e+06</td>\n",
       "      <td>0.000000</td>\n",
       "      <td>0.000000</td>\n",
       "      <td>0.000000</td>\n",
       "      <td>0.000000</td>\n",
       "      <td>0.000000</td>\n",
       "      <td>0.000000</td>\n",
       "      <td>0.000000</td>\n",
       "    </tr>\n",
       "    <tr>\n",
       "      <th>25%</th>\n",
       "      <td>4.175956e+12</td>\n",
       "      <td>5.631622e+06</td>\n",
       "      <td>17.000000</td>\n",
       "      <td>0.000000</td>\n",
       "      <td>0.000000</td>\n",
       "      <td>0.000000</td>\n",
       "      <td>0.000000</td>\n",
       "      <td>0.000000</td>\n",
       "      <td>0.000000</td>\n",
       "    </tr>\n",
       "    <tr>\n",
       "      <th>50%</th>\n",
       "      <td>3.189425e+13</td>\n",
       "      <td>5.672882e+06</td>\n",
       "      <td>36.000000</td>\n",
       "      <td>0.000000</td>\n",
       "      <td>0.000000</td>\n",
       "      <td>0.000000</td>\n",
       "      <td>0.000000</td>\n",
       "      <td>0.000000</td>\n",
       "      <td>0.000000</td>\n",
       "    </tr>\n",
       "    <tr>\n",
       "      <th>75%</th>\n",
       "      <td>9.457487e+13</td>\n",
       "      <td>5.716567e+06</td>\n",
       "      <td>55.000000</td>\n",
       "      <td>0.000000</td>\n",
       "      <td>0.000000</td>\n",
       "      <td>0.000000</td>\n",
       "      <td>0.000000</td>\n",
       "      <td>0.000000</td>\n",
       "      <td>1.000000</td>\n",
       "    </tr>\n",
       "    <tr>\n",
       "      <th>max</th>\n",
       "      <td>9.999816e+14</td>\n",
       "      <td>5.790484e+06</td>\n",
       "      <td>115.000000</td>\n",
       "      <td>1.000000</td>\n",
       "      <td>1.000000</td>\n",
       "      <td>1.000000</td>\n",
       "      <td>1.000000</td>\n",
       "      <td>4.000000</td>\n",
       "      <td>1.000000</td>\n",
       "    </tr>\n",
       "  </tbody>\n",
       "</table>\n",
       "</div>"
      ],
      "text/plain": [
       "          PatientId  AppointmentID           Age   Scholarship  Hipertension  \\\n",
       "count  7.181600e+04   7.181600e+04  71816.000000  71816.000000  71816.000000   \n",
       "mean   1.466249e+14   5.666493e+06     36.527501      0.095536      0.195068   \n",
       "std    2.544917e+14   7.313083e+04     23.378262      0.293956      0.396256   \n",
       "min    3.921784e+04   5.030230e+06      0.000000      0.000000      0.000000   \n",
       "25%    4.175956e+12   5.631622e+06     17.000000      0.000000      0.000000   \n",
       "50%    3.189425e+13   5.672882e+06     36.000000      0.000000      0.000000   \n",
       "75%    9.457487e+13   5.716567e+06     55.000000      0.000000      0.000000   \n",
       "max    9.999816e+14   5.790484e+06    115.000000      1.000000      1.000000   \n",
       "\n",
       "           Diabetes    Alcoholism       Handcap  SMS_received  \n",
       "count  71816.000000  71816.000000  71816.000000  71816.000000  \n",
       "mean       0.070959      0.025036      0.020135      0.335566  \n",
       "std        0.256758      0.156236      0.155338      0.472191  \n",
       "min        0.000000      0.000000      0.000000      0.000000  \n",
       "25%        0.000000      0.000000      0.000000      0.000000  \n",
       "50%        0.000000      0.000000      0.000000      0.000000  \n",
       "75%        0.000000      0.000000      0.000000      1.000000  \n",
       "max        1.000000      1.000000      4.000000      1.000000  "
      ]
     },
     "execution_count": 15,
     "metadata": {},
     "output_type": "execute_result"
    }
   ],
   "source": [
    "#outputs the descriptive statistics of the data\n",
    "df.describe()"
   ]
  },
  {
   "cell_type": "markdown",
   "id": "2d83de85",
   "metadata": {},
   "source": [
    "### The next three lines of code corrects the column name for No-show, Hipertension and Handcap"
   ]
  },
  {
   "cell_type": "markdown",
   "id": "47bd777f",
   "metadata": {},
   "source": [
    "Renamed the \"No-show\" column to \"No_show\" "
   ]
  },
  {
   "cell_type": "code",
   "execution_count": 16,
   "id": "fe283e01",
   "metadata": {},
   "outputs": [],
   "source": [
    "#corrects the column name for No-show\n",
    "df.rename(columns= {'No-show': 'No_show'}, inplace=True)"
   ]
  },
  {
   "cell_type": "markdown",
   "id": "5fba6285",
   "metadata": {},
   "source": [
    "Renamed the \"Hipertension\" column to \"Hypertension\"."
   ]
  },
  {
   "cell_type": "code",
   "execution_count": 17,
   "id": "122e325a",
   "metadata": {},
   "outputs": [],
   "source": [
    "#corrects the column name for Hipertension\n",
    "df.rename(columns= {'Hipertension': 'Hypertension'}, inplace=True)"
   ]
  },
  {
   "cell_type": "markdown",
   "id": "ae030ad6",
   "metadata": {},
   "source": [
    "Renamed the \"Handcap\" column to \"Handicap\"."
   ]
  },
  {
   "cell_type": "code",
   "execution_count": 18,
   "id": "7c607fc8",
   "metadata": {},
   "outputs": [],
   "source": [
    "#corrects the column name for Handcap\n",
    "df.rename(columns= {'Handcap': 'Handicap'}, inplace=True)"
   ]
  },
  {
   "cell_type": "code",
   "execution_count": 19,
   "id": "b46c5a8c",
   "metadata": {},
   "outputs": [
    {
     "data": {
      "text/plain": [
       "Index(['PatientId', 'AppointmentID', 'Gender', 'ScheduledDay',\n",
       "       'AppointmentDay', 'Age', 'Neighbourhood', 'Scholarship', 'Hypertension',\n",
       "       'Diabetes', 'Alcoholism', 'Handicap', 'SMS_received', 'No_show'],\n",
       "      dtype='object')"
      ]
     },
     "execution_count": 19,
     "metadata": {},
     "output_type": "execute_result"
    }
   ],
   "source": [
    "#outputs the column names of the data\n",
    "df.columns"
   ]
  },
  {
   "cell_type": "code",
   "execution_count": 20,
   "id": "14d742c1",
   "metadata": {},
   "outputs": [
    {
     "data": {
      "text/html": [
       "<div>\n",
       "<style scoped>\n",
       "    .dataframe tbody tr th:only-of-type {\n",
       "        vertical-align: middle;\n",
       "    }\n",
       "\n",
       "    .dataframe tbody tr th {\n",
       "        vertical-align: top;\n",
       "    }\n",
       "\n",
       "    .dataframe thead th {\n",
       "        text-align: right;\n",
       "    }\n",
       "</style>\n",
       "<table border=\"1\" class=\"dataframe\">\n",
       "  <thead>\n",
       "    <tr style=\"text-align: right;\">\n",
       "      <th></th>\n",
       "      <th>PatientId</th>\n",
       "      <th>AppointmentID</th>\n",
       "      <th>Gender</th>\n",
       "      <th>ScheduledDay</th>\n",
       "      <th>AppointmentDay</th>\n",
       "      <th>Age</th>\n",
       "      <th>Neighbourhood</th>\n",
       "      <th>Scholarship</th>\n",
       "      <th>Hypertension</th>\n",
       "      <th>Diabetes</th>\n",
       "      <th>Alcoholism</th>\n",
       "      <th>Handicap</th>\n",
       "      <th>SMS_received</th>\n",
       "      <th>No_show</th>\n",
       "    </tr>\n",
       "  </thead>\n",
       "  <tbody>\n",
       "    <tr>\n",
       "      <th>73136</th>\n",
       "      <td>2.221533e+14</td>\n",
       "      <td>5664291</td>\n",
       "      <td>F</td>\n",
       "      <td>2016-05-05T11:46:17Z</td>\n",
       "      <td>2016-05-18T00:00:00Z</td>\n",
       "      <td>38</td>\n",
       "      <td>BARRO VERMELHO</td>\n",
       "      <td>0</td>\n",
       "      <td>0</td>\n",
       "      <td>0</td>\n",
       "      <td>0</td>\n",
       "      <td>0</td>\n",
       "      <td>0</td>\n",
       "      <td>No</td>\n",
       "    </tr>\n",
       "    <tr>\n",
       "      <th>20873</th>\n",
       "      <td>1.992582e+10</td>\n",
       "      <td>5712704</td>\n",
       "      <td>M</td>\n",
       "      <td>2016-05-18T09:08:41Z</td>\n",
       "      <td>2016-05-24T00:00:00Z</td>\n",
       "      <td>40</td>\n",
       "      <td>VILA RUBIM</td>\n",
       "      <td>0</td>\n",
       "      <td>0</td>\n",
       "      <td>0</td>\n",
       "      <td>0</td>\n",
       "      <td>0</td>\n",
       "      <td>1</td>\n",
       "      <td>No</td>\n",
       "    </tr>\n",
       "    <tr>\n",
       "      <th>63423</th>\n",
       "      <td>2.676485e+14</td>\n",
       "      <td>5673810</td>\n",
       "      <td>F</td>\n",
       "      <td>2016-05-09T09:53:45Z</td>\n",
       "      <td>2016-05-11T00:00:00Z</td>\n",
       "      <td>14</td>\n",
       "      <td>NOVA PALESTINA</td>\n",
       "      <td>0</td>\n",
       "      <td>0</td>\n",
       "      <td>0</td>\n",
       "      <td>0</td>\n",
       "      <td>0</td>\n",
       "      <td>0</td>\n",
       "      <td>Yes</td>\n",
       "    </tr>\n",
       "    <tr>\n",
       "      <th>36351</th>\n",
       "      <td>7.388932e+13</td>\n",
       "      <td>5665349</td>\n",
       "      <td>M</td>\n",
       "      <td>2016-05-05T14:18:18Z</td>\n",
       "      <td>2016-05-11T00:00:00Z</td>\n",
       "      <td>61</td>\n",
       "      <td>SÃO PEDRO</td>\n",
       "      <td>0</td>\n",
       "      <td>1</td>\n",
       "      <td>0</td>\n",
       "      <td>0</td>\n",
       "      <td>0</td>\n",
       "      <td>1</td>\n",
       "      <td>No</td>\n",
       "    </tr>\n",
       "    <tr>\n",
       "      <th>70452</th>\n",
       "      <td>6.448127e+13</td>\n",
       "      <td>5694530</td>\n",
       "      <td>F</td>\n",
       "      <td>2016-05-13T08:44:25Z</td>\n",
       "      <td>2016-05-13T00:00:00Z</td>\n",
       "      <td>26</td>\n",
       "      <td>GURIGICA</td>\n",
       "      <td>0</td>\n",
       "      <td>0</td>\n",
       "      <td>0</td>\n",
       "      <td>0</td>\n",
       "      <td>0</td>\n",
       "      <td>0</td>\n",
       "      <td>No</td>\n",
       "    </tr>\n",
       "  </tbody>\n",
       "</table>\n",
       "</div>"
      ],
      "text/plain": [
       "          PatientId  AppointmentID Gender          ScheduledDay  \\\n",
       "73136  2.221533e+14        5664291      F  2016-05-05T11:46:17Z   \n",
       "20873  1.992582e+10        5712704      M  2016-05-18T09:08:41Z   \n",
       "63423  2.676485e+14        5673810      F  2016-05-09T09:53:45Z   \n",
       "36351  7.388932e+13        5665349      M  2016-05-05T14:18:18Z   \n",
       "70452  6.448127e+13        5694530      F  2016-05-13T08:44:25Z   \n",
       "\n",
       "             AppointmentDay  Age   Neighbourhood  Scholarship  Hypertension  \\\n",
       "73136  2016-05-18T00:00:00Z   38  BARRO VERMELHO            0             0   \n",
       "20873  2016-05-24T00:00:00Z   40      VILA RUBIM            0             0   \n",
       "63423  2016-05-11T00:00:00Z   14  NOVA PALESTINA            0             0   \n",
       "36351  2016-05-11T00:00:00Z   61       SÃO PEDRO            0             1   \n",
       "70452  2016-05-13T00:00:00Z   26        GURIGICA            0             0   \n",
       "\n",
       "       Diabetes  Alcoholism  Handicap  SMS_received No_show  \n",
       "73136         0           0         0             0      No  \n",
       "20873         0           0         0             1      No  \n",
       "63423         0           0         0             0     Yes  \n",
       "36351         0           0         0             1      No  \n",
       "70452         0           0         0             0      No  "
      ]
     },
     "execution_count": 20,
     "metadata": {},
     "output_type": "execute_result"
    }
   ],
   "source": [
    "#Randomly selects five rows\n",
    "df.sample(5)"
   ]
  },
  {
   "cell_type": "code",
   "execution_count": 21,
   "id": "73b7af70",
   "metadata": {},
   "outputs": [
    {
     "data": {
      "text/html": [
       "<div>\n",
       "<style scoped>\n",
       "    .dataframe tbody tr th:only-of-type {\n",
       "        vertical-align: middle;\n",
       "    }\n",
       "\n",
       "    .dataframe tbody tr th {\n",
       "        vertical-align: top;\n",
       "    }\n",
       "\n",
       "    .dataframe thead th {\n",
       "        text-align: right;\n",
       "    }\n",
       "</style>\n",
       "<table border=\"1\" class=\"dataframe\">\n",
       "  <thead>\n",
       "    <tr style=\"text-align: right;\">\n",
       "      <th></th>\n",
       "      <th>PatientId</th>\n",
       "      <th>AppointmentID</th>\n",
       "      <th>Gender</th>\n",
       "      <th>ScheduledDay</th>\n",
       "      <th>AppointmentDay</th>\n",
       "      <th>Age</th>\n",
       "      <th>Neighbourhood</th>\n",
       "      <th>Scholarship</th>\n",
       "      <th>Hypertension</th>\n",
       "      <th>Diabetes</th>\n",
       "      <th>Alcoholism</th>\n",
       "      <th>Handicap</th>\n",
       "      <th>SMS_received</th>\n",
       "      <th>No_show</th>\n",
       "    </tr>\n",
       "  </thead>\n",
       "  <tbody>\n",
       "    <tr>\n",
       "      <th>0</th>\n",
       "      <td>2.987250e+13</td>\n",
       "      <td>5642903</td>\n",
       "      <td>F</td>\n",
       "      <td>2016-04-29T18:38:08Z</td>\n",
       "      <td>2016-04-29T00:00:00Z</td>\n",
       "      <td>62</td>\n",
       "      <td>JARDIM DA PENHA</td>\n",
       "      <td>0</td>\n",
       "      <td>1</td>\n",
       "      <td>0</td>\n",
       "      <td>0</td>\n",
       "      <td>0</td>\n",
       "      <td>0</td>\n",
       "      <td>No</td>\n",
       "    </tr>\n",
       "    <tr>\n",
       "      <th>1</th>\n",
       "      <td>5.589978e+14</td>\n",
       "      <td>5642503</td>\n",
       "      <td>M</td>\n",
       "      <td>2016-04-29T16:08:27Z</td>\n",
       "      <td>2016-04-29T00:00:00Z</td>\n",
       "      <td>56</td>\n",
       "      <td>JARDIM DA PENHA</td>\n",
       "      <td>0</td>\n",
       "      <td>0</td>\n",
       "      <td>0</td>\n",
       "      <td>0</td>\n",
       "      <td>0</td>\n",
       "      <td>0</td>\n",
       "      <td>No</td>\n",
       "    </tr>\n",
       "    <tr>\n",
       "      <th>2</th>\n",
       "      <td>4.262962e+12</td>\n",
       "      <td>5642549</td>\n",
       "      <td>F</td>\n",
       "      <td>2016-04-29T16:19:04Z</td>\n",
       "      <td>2016-04-29T00:00:00Z</td>\n",
       "      <td>62</td>\n",
       "      <td>MATA DA PRAIA</td>\n",
       "      <td>0</td>\n",
       "      <td>0</td>\n",
       "      <td>0</td>\n",
       "      <td>0</td>\n",
       "      <td>0</td>\n",
       "      <td>0</td>\n",
       "      <td>No</td>\n",
       "    </tr>\n",
       "    <tr>\n",
       "      <th>3</th>\n",
       "      <td>8.679512e+11</td>\n",
       "      <td>5642828</td>\n",
       "      <td>F</td>\n",
       "      <td>2016-04-29T17:29:31Z</td>\n",
       "      <td>2016-04-29T00:00:00Z</td>\n",
       "      <td>8</td>\n",
       "      <td>PONTAL DE CAMBURI</td>\n",
       "      <td>0</td>\n",
       "      <td>0</td>\n",
       "      <td>0</td>\n",
       "      <td>0</td>\n",
       "      <td>0</td>\n",
       "      <td>0</td>\n",
       "      <td>No</td>\n",
       "    </tr>\n",
       "    <tr>\n",
       "      <th>4</th>\n",
       "      <td>8.841186e+12</td>\n",
       "      <td>5642494</td>\n",
       "      <td>F</td>\n",
       "      <td>2016-04-29T16:07:23Z</td>\n",
       "      <td>2016-04-29T00:00:00Z</td>\n",
       "      <td>56</td>\n",
       "      <td>JARDIM DA PENHA</td>\n",
       "      <td>0</td>\n",
       "      <td>1</td>\n",
       "      <td>1</td>\n",
       "      <td>0</td>\n",
       "      <td>0</td>\n",
       "      <td>0</td>\n",
       "      <td>No</td>\n",
       "    </tr>\n",
       "  </tbody>\n",
       "</table>\n",
       "</div>"
      ],
      "text/plain": [
       "      PatientId  AppointmentID Gender          ScheduledDay  \\\n",
       "0  2.987250e+13        5642903      F  2016-04-29T18:38:08Z   \n",
       "1  5.589978e+14        5642503      M  2016-04-29T16:08:27Z   \n",
       "2  4.262962e+12        5642549      F  2016-04-29T16:19:04Z   \n",
       "3  8.679512e+11        5642828      F  2016-04-29T17:29:31Z   \n",
       "4  8.841186e+12        5642494      F  2016-04-29T16:07:23Z   \n",
       "\n",
       "         AppointmentDay  Age      Neighbourhood  Scholarship  Hypertension  \\\n",
       "0  2016-04-29T00:00:00Z   62    JARDIM DA PENHA            0             1   \n",
       "1  2016-04-29T00:00:00Z   56    JARDIM DA PENHA            0             0   \n",
       "2  2016-04-29T00:00:00Z   62      MATA DA PRAIA            0             0   \n",
       "3  2016-04-29T00:00:00Z    8  PONTAL DE CAMBURI            0             0   \n",
       "4  2016-04-29T00:00:00Z   56    JARDIM DA PENHA            0             1   \n",
       "\n",
       "   Diabetes  Alcoholism  Handicap  SMS_received No_show  \n",
       "0         0           0         0             0      No  \n",
       "1         0           0         0             0      No  \n",
       "2         0           0         0             0      No  \n",
       "3         0           0         0             0      No  \n",
       "4         1           0         0             0      No  "
      ]
     },
     "execution_count": 21,
     "metadata": {},
     "output_type": "execute_result"
    }
   ],
   "source": [
    "#Prints the first five rows of the dataset\n",
    "df.head()"
   ]
  },
  {
   "cell_type": "code",
   "execution_count": 22,
   "id": "7b24042f",
   "metadata": {},
   "outputs": [
    {
     "data": {
      "text/html": [
       "<div>\n",
       "<style scoped>\n",
       "    .dataframe tbody tr th:only-of-type {\n",
       "        vertical-align: middle;\n",
       "    }\n",
       "\n",
       "    .dataframe tbody tr th {\n",
       "        vertical-align: top;\n",
       "    }\n",
       "\n",
       "    .dataframe thead th {\n",
       "        text-align: right;\n",
       "    }\n",
       "</style>\n",
       "<table border=\"1\" class=\"dataframe\">\n",
       "  <thead>\n",
       "    <tr style=\"text-align: right;\">\n",
       "      <th></th>\n",
       "      <th>PatientId</th>\n",
       "      <th>AppointmentID</th>\n",
       "      <th>Gender</th>\n",
       "      <th>ScheduledDay</th>\n",
       "      <th>AppointmentDay</th>\n",
       "      <th>Age</th>\n",
       "      <th>Neighbourhood</th>\n",
       "      <th>Scholarship</th>\n",
       "      <th>Hypertension</th>\n",
       "      <th>Diabetes</th>\n",
       "      <th>Alcoholism</th>\n",
       "      <th>Handicap</th>\n",
       "      <th>SMS_received</th>\n",
       "      <th>No_show</th>\n",
       "    </tr>\n",
       "  </thead>\n",
       "  <tbody>\n",
       "    <tr>\n",
       "      <th>110518</th>\n",
       "      <td>7.263315e+13</td>\n",
       "      <td>5630375</td>\n",
       "      <td>F</td>\n",
       "      <td>2016-04-27T15:15:06Z</td>\n",
       "      <td>2016-06-07T00:00:00Z</td>\n",
       "      <td>50</td>\n",
       "      <td>MARIA ORTIZ</td>\n",
       "      <td>0</td>\n",
       "      <td>0</td>\n",
       "      <td>0</td>\n",
       "      <td>0</td>\n",
       "      <td>0</td>\n",
       "      <td>1</td>\n",
       "      <td>No</td>\n",
       "    </tr>\n",
       "    <tr>\n",
       "      <th>110520</th>\n",
       "      <td>9.969977e+14</td>\n",
       "      <td>5650534</td>\n",
       "      <td>F</td>\n",
       "      <td>2016-05-03T07:51:47Z</td>\n",
       "      <td>2016-06-07T00:00:00Z</td>\n",
       "      <td>42</td>\n",
       "      <td>MARIA ORTIZ</td>\n",
       "      <td>0</td>\n",
       "      <td>0</td>\n",
       "      <td>0</td>\n",
       "      <td>0</td>\n",
       "      <td>0</td>\n",
       "      <td>1</td>\n",
       "      <td>No</td>\n",
       "    </tr>\n",
       "    <tr>\n",
       "      <th>110521</th>\n",
       "      <td>3.635534e+13</td>\n",
       "      <td>5651072</td>\n",
       "      <td>F</td>\n",
       "      <td>2016-05-03T08:23:40Z</td>\n",
       "      <td>2016-06-07T00:00:00Z</td>\n",
       "      <td>53</td>\n",
       "      <td>MARIA ORTIZ</td>\n",
       "      <td>0</td>\n",
       "      <td>0</td>\n",
       "      <td>0</td>\n",
       "      <td>0</td>\n",
       "      <td>0</td>\n",
       "      <td>1</td>\n",
       "      <td>No</td>\n",
       "    </tr>\n",
       "    <tr>\n",
       "      <th>110522</th>\n",
       "      <td>2.572134e+12</td>\n",
       "      <td>5651768</td>\n",
       "      <td>F</td>\n",
       "      <td>2016-05-03T09:15:35Z</td>\n",
       "      <td>2016-06-07T00:00:00Z</td>\n",
       "      <td>56</td>\n",
       "      <td>MARIA ORTIZ</td>\n",
       "      <td>0</td>\n",
       "      <td>0</td>\n",
       "      <td>0</td>\n",
       "      <td>0</td>\n",
       "      <td>0</td>\n",
       "      <td>1</td>\n",
       "      <td>No</td>\n",
       "    </tr>\n",
       "    <tr>\n",
       "      <th>110524</th>\n",
       "      <td>1.557663e+13</td>\n",
       "      <td>5630692</td>\n",
       "      <td>F</td>\n",
       "      <td>2016-04-27T16:03:52Z</td>\n",
       "      <td>2016-06-07T00:00:00Z</td>\n",
       "      <td>21</td>\n",
       "      <td>MARIA ORTIZ</td>\n",
       "      <td>0</td>\n",
       "      <td>0</td>\n",
       "      <td>0</td>\n",
       "      <td>0</td>\n",
       "      <td>0</td>\n",
       "      <td>1</td>\n",
       "      <td>No</td>\n",
       "    </tr>\n",
       "  </tbody>\n",
       "</table>\n",
       "</div>"
      ],
      "text/plain": [
       "           PatientId  AppointmentID Gender          ScheduledDay  \\\n",
       "110518  7.263315e+13        5630375      F  2016-04-27T15:15:06Z   \n",
       "110520  9.969977e+14        5650534      F  2016-05-03T07:51:47Z   \n",
       "110521  3.635534e+13        5651072      F  2016-05-03T08:23:40Z   \n",
       "110522  2.572134e+12        5651768      F  2016-05-03T09:15:35Z   \n",
       "110524  1.557663e+13        5630692      F  2016-04-27T16:03:52Z   \n",
       "\n",
       "              AppointmentDay  Age Neighbourhood  Scholarship  Hypertension  \\\n",
       "110518  2016-06-07T00:00:00Z   50   MARIA ORTIZ            0             0   \n",
       "110520  2016-06-07T00:00:00Z   42   MARIA ORTIZ            0             0   \n",
       "110521  2016-06-07T00:00:00Z   53   MARIA ORTIZ            0             0   \n",
       "110522  2016-06-07T00:00:00Z   56   MARIA ORTIZ            0             0   \n",
       "110524  2016-06-07T00:00:00Z   21   MARIA ORTIZ            0             0   \n",
       "\n",
       "        Diabetes  Alcoholism  Handicap  SMS_received No_show  \n",
       "110518         0           0         0             1      No  \n",
       "110520         0           0         0             1      No  \n",
       "110521         0           0         0             1      No  \n",
       "110522         0           0         0             1      No  \n",
       "110524         0           0         0             1      No  "
      ]
     },
     "execution_count": 22,
     "metadata": {},
     "output_type": "execute_result"
    }
   ],
   "source": [
    "#last five rows of the dataset\n",
    "df.tail()"
   ]
  },
  {
   "cell_type": "code",
   "execution_count": 23,
   "id": "b937195d",
   "metadata": {},
   "outputs": [
    {
     "data": {
      "text/plain": [
       "(71816, 14)"
      ]
     },
     "execution_count": 23,
     "metadata": {},
     "output_type": "execute_result"
    }
   ],
   "source": [
    "#Gives the shape of the data\n",
    "df.shape"
   ]
  },
  {
   "cell_type": "markdown",
   "id": "6b974b71",
   "metadata": {},
   "source": [
    "Checking the datatype of all the columns"
   ]
  },
  {
   "cell_type": "code",
   "execution_count": 24,
   "id": "a6eb3fe4",
   "metadata": {},
   "outputs": [
    {
     "data": {
      "text/plain": [
       "PatientId         float64\n",
       "AppointmentID       int64\n",
       "Gender             object\n",
       "ScheduledDay       object\n",
       "AppointmentDay     object\n",
       "Age                 int64\n",
       "Neighbourhood      object\n",
       "Scholarship         int64\n",
       "Hypertension        int64\n",
       "Diabetes            int64\n",
       "Alcoholism          int64\n",
       "Handicap            int64\n",
       "SMS_received        int64\n",
       "No_show            object\n",
       "dtype: object"
      ]
     },
     "execution_count": 24,
     "metadata": {},
     "output_type": "execute_result"
    }
   ],
   "source": [
    "df.dtypes"
   ]
  },
  {
   "cell_type": "code",
   "execution_count": 25,
   "id": "2e887895",
   "metadata": {},
   "outputs": [],
   "source": [
    "# converting some columns that has date to a datetime datatype\n",
    "df['ScheduledDay'] = pd.to_datetime(df['ScheduledDay'])\n",
    "df['AppointmentDay'] = pd.to_datetime(df['AppointmentDay'])"
   ]
  },
  {
   "cell_type": "markdown",
   "id": "cef145c4",
   "metadata": {},
   "source": [
    "Confirming the changes"
   ]
  },
  {
   "cell_type": "code",
   "execution_count": 26,
   "id": "ceee51db",
   "metadata": {},
   "outputs": [
    {
     "data": {
      "text/plain": [
       "PatientId                     float64\n",
       "AppointmentID                   int64\n",
       "Gender                         object\n",
       "ScheduledDay      datetime64[ns, UTC]\n",
       "AppointmentDay    datetime64[ns, UTC]\n",
       "Age                             int64\n",
       "Neighbourhood                  object\n",
       "Scholarship                     int64\n",
       "Hypertension                    int64\n",
       "Diabetes                        int64\n",
       "Alcoholism                      int64\n",
       "Handicap                        int64\n",
       "SMS_received                    int64\n",
       "No_show                        object\n",
       "dtype: object"
      ]
     },
     "execution_count": 26,
     "metadata": {},
     "output_type": "execute_result"
    }
   ],
   "source": [
    "df.dtypes"
   ]
  },
  {
   "cell_type": "markdown",
   "id": "d60541c9",
   "metadata": {},
   "source": [
    "Seperate the data into two sets; present for patients that show up and absent for patients that did not show up."
   ]
  },
  {
   "cell_type": "code",
   "execution_count": 27,
   "id": "633ca216",
   "metadata": {},
   "outputs": [],
   "source": [
    "#Divides the data into two sets: present for those that showed and absent for those that did not show\n",
    "present = df.No_show == 'No'\n",
    "absent = df.No_show == 'Yes'"
   ]
  },
  {
   "cell_type": "code",
   "execution_count": 28,
   "id": "56e43889",
   "metadata": {},
   "outputs": [
    {
     "data": {
      "image/png": "[encoded data removed]",
      "text/plain": [
       "<Figure size 864x1080 with 12 Axes>"
      ]
     },
     "metadata": {
      "needs_background": "light"
     },
     "output_type": "display_data"
    }
   ],
   "source": [
    "#Outputs a general visualization of the data in a histogram chart\n",
    "df.hist(figsize=(12, 15));"
   ]
  },
  {
   "cell_type": "markdown",
   "id": "e5c44f53",
   "metadata": {},
   "source": [
    "<a id='eda'></a>\n",
    "## Exploratory Data Analysis"
   ]
  },
  {
   "cell_type": "markdown",
   "id": "a4f2c3ca",
   "metadata": {},
   "source": [
    "### Research Question 1: Does neighbourhood affect patient's chances of showing up or not."
   ]
  },
  {
   "cell_type": "markdown",
   "id": "b8cbc5e3",
   "metadata": {},
   "source": [
    "We start by creating a function to plot the visualizations which will be in bar charts."
   ]
  },
  {
   "cell_type": "code",
   "execution_count": 29,
   "id": "619a5c4b",
   "metadata": {},
   "outputs": [],
   "source": [
    "#defines a function to plot a bar chart\n",
    "def plot_bar(column, title, xlabel, ylabel):\n",
    "    #sets the figure  size of the visualization\n",
    "    plt.figure(figsize=[16, 6])\n",
    "    #plots the comparison data between the neighbourhood column and the No_show column\n",
    "    column[present].value_counts().plot(kind='bar', label='present', color='purple')\n",
    "    column[absent].value_counts().plot(kind='bar', label='absent', color='green')\n",
    "    plt.legend()\n",
    "    #creates the charts name\n",
    "    plt.title(title)\n",
    "    #gives the label name for the x_axis\n",
    "    plt.xlabel(xlabel)\n",
    "    #creates the label name for the y_axis\n",
    "    plt.ylabel(ylabel);"
   ]
  },
  {
   "cell_type": "code",
   "execution_count": 30,
   "id": "69a97c74",
   "metadata": {},
   "outputs": [
    {
     "data": {
      "image/png": "[encoded data removed]",
      "text/plain": [
       "<Figure size 1152x432 with 1 Axes>"
      ]
     },
     "metadata": {
      "needs_background": "light"
     },
     "output_type": "display_data"
    }
   ],
   "source": [
    "plot_bar(df.Neighbourhood, 'Comparison data', 'Neighbourhood', 'PatientId')"
   ]
  },
  {
   "cell_type": "markdown",
   "id": "828ce73c",
   "metadata": {},
   "source": [
    "From the visualization above, the chart is skewed to the right, with the highest number of patients that were present coming from JARDIM CAMBURI neighbourhood"
   ]
  },
  {
   "cell_type": "markdown",
   "id": "6a9e0c31",
   "metadata": {},
   "source": [
    "### Research Question 2: Will receiving an sms from the hospital affect the chances of patients showing up?\n"
   ]
  },
  {
   "cell_type": "markdown",
   "id": "4b2795db",
   "metadata": {},
   "source": [
    "Outputs the data's column names"
   ]
  },
  {
   "cell_type": "code",
   "execution_count": 31,
   "id": "4b5b1ad4",
   "metadata": {},
   "outputs": [
    {
     "data": {
      "text/plain": [
       "Index(['PatientId', 'AppointmentID', 'Gender', 'ScheduledDay',\n",
       "       'AppointmentDay', 'Age', 'Neighbourhood', 'Scholarship', 'Hypertension',\n",
       "       'Diabetes', 'Alcoholism', 'Handicap', 'SMS_received', 'No_show'],\n",
       "      dtype='object')"
      ]
     },
     "execution_count": 31,
     "metadata": {},
     "output_type": "execute_result"
    }
   ],
   "source": [
    "df.columns"
   ]
  },
  {
   "cell_type": "code",
   "execution_count": 32,
   "id": "5c8056e5",
   "metadata": {},
   "outputs": [
    {
     "data": {
      "image/png": "[encoded data removed]",
      "text/plain": [
       "<Figure size 1152x432 with 1 Axes>"
      ]
     },
     "metadata": {
      "needs_background": "light"
     },
     "output_type": "display_data"
    }
   ],
   "source": [
    "#plot the bar chart with the given variables\n",
    "plot_bar(df.SMS_received, 'Comparison data', 'SMS_received_(1=Yes, 0=No)', 'PatientId')"
   ]
  },
  {
   "cell_type": "markdown",
   "id": "0550e742",
   "metadata": {},
   "source": [
    "From the visualization above, most of the patients that showed up did not get an sms so this column is not a determining factor of patients that showed up or not."
   ]
  },
  {
   "cell_type": "markdown",
   "id": "d174b344",
   "metadata": {},
   "source": [
    "### Research Question 3: Does scholarship affect the chances of patients showing up?"
   ]
  },
  {
   "cell_type": "markdown",
   "id": "0d6c3f6f",
   "metadata": {},
   "source": [
    "Outputs the data's column names"
   ]
  },
  {
   "cell_type": "code",
   "execution_count": 33,
   "id": "01f2755f",
   "metadata": {},
   "outputs": [
    {
     "data": {
      "text/plain": [
       "Index(['PatientId', 'AppointmentID', 'Gender', 'ScheduledDay',\n",
       "       'AppointmentDay', 'Age', 'Neighbourhood', 'Scholarship', 'Hypertension',\n",
       "       'Diabetes', 'Alcoholism', 'Handicap', 'SMS_received', 'No_show'],\n",
       "      dtype='object')"
      ]
     },
     "execution_count": 33,
     "metadata": {},
     "output_type": "execute_result"
    }
   ],
   "source": [
    "df.columns"
   ]
  },
  {
   "cell_type": "code",
   "execution_count": 34,
   "id": "617dc0c0",
   "metadata": {},
   "outputs": [
    {
     "data": {
      "image/png": "[encoded data removed]",
      "text/plain": [
       "<Figure size 1152x432 with 1 Axes>"
      ]
     },
     "metadata": {
      "needs_background": "light"
     },
     "output_type": "display_data"
    }
   ],
   "source": [
    "plot_bar(df.Scholarship, 'Comparison data', 'Scholarship_(1=Yes, 0=No)', 'PatientId')"
   ]
  },
  {
   "cell_type": "markdown",
   "id": "ef34da55",
   "metadata": {},
   "source": [
    "The above visualization shows that most of the patients whose data was recorded in this dataset were not on scholarships. With most of the non-scholarship beneficiaries showing up."
   ]
  },
  {
   "cell_type": "markdown",
   "id": "40c049e4",
   "metadata": {},
   "source": [
    "### Research Question 4: Can a patient's age affect the chances of him/her showing up?"
   ]
  },
  {
   "cell_type": "markdown",
   "id": "14fd3476",
   "metadata": {},
   "source": [
    "Outputs the data's column names"
   ]
  },
  {
   "cell_type": "code",
   "execution_count": 35,
   "id": "32968795",
   "metadata": {},
   "outputs": [
    {
     "data": {
      "text/plain": [
       "Index(['PatientId', 'AppointmentID', 'Gender', 'ScheduledDay',\n",
       "       'AppointmentDay', 'Age', 'Neighbourhood', 'Scholarship', 'Hypertension',\n",
       "       'Diabetes', 'Alcoholism', 'Handicap', 'SMS_received', 'No_show'],\n",
       "      dtype='object')"
      ]
     },
     "execution_count": 35,
     "metadata": {},
     "output_type": "execute_result"
    }
   ],
   "source": [
    "df.columns"
   ]
  },
  {
   "cell_type": "markdown",
   "id": "b9d070bf",
   "metadata": {},
   "source": [
    "Groups the age columns into four different categories"
   ]
  },
  {
   "cell_type": "code",
   "execution_count": 36,
   "id": "4531df61",
   "metadata": {},
   "outputs": [],
   "source": [
    "#Grouped the Age column using pandas.cut\n",
    "bin_edges = [0, 20, 40, 70, 115]\n",
    "bin_names = ['child', 'youth', 'adult', 'old']\n",
    "df['Age'] = pd.cut(df['Age'], bin_edges, labels=bin_names)"
   ]
  },
  {
   "cell_type": "code",
   "execution_count": 37,
   "id": "bd03582f",
   "metadata": {},
   "outputs": [
    {
     "data": {
      "text/plain": [
       "['adult', 'child', 'old', 'youth', NaN]\n",
       "Categories (4, object): ['child' < 'youth' < 'adult' < 'old']"
      ]
     },
     "execution_count": 37,
     "metadata": {},
     "output_type": "execute_result"
    }
   ],
   "source": [
    "#Test to confirm the changes made\n",
    "df['Age'].unique()"
   ]
  },
  {
   "cell_type": "code",
   "execution_count": 38,
   "id": "3c242b1e",
   "metadata": {},
   "outputs": [
    {
     "data": {
      "image/png": "[encoded data removed]",
      "text/plain": [
       "<Figure size 1152x432 with 1 Axes>"
      ]
     },
     "metadata": {
      "needs_background": "light"
     },
     "output_type": "display_data"
    }
   ],
   "source": [
    "plot_bar(df.Age, 'Comparison data', 'Age', 'PatientId')"
   ]
  },
  {
   "cell_type": "markdown",
   "id": "fb789104",
   "metadata": {},
   "source": [
    "A good number of the patients fall within the adult range and are also the leading group of people to show up on the appointment day.\n",
    "While the patients that fall within the old Agers lag behind the rest of the groups of patients. Although, most of them showed up."
   ]
  },
  {
   "cell_type": "markdown",
   "id": "d26335a0",
   "metadata": {},
   "source": [
    "### Research Question 5: Can the Gender of patients influence the attendance rate?"
   ]
  },
  {
   "cell_type": "code",
   "execution_count": 39,
   "id": "fd9de7dd",
   "metadata": {},
   "outputs": [
    {
     "data": {
      "image/png": "[encoded data removed]",
      "text/plain": [
       "<Figure size 1152x432 with 1 Axes>"
      ]
     },
     "metadata": {
      "needs_background": "light"
     },
     "output_type": "display_data"
    }
   ],
   "source": [
    "plot_bar(df.Gender, 'Comparison data', 'Gender', 'PatientId')"
   ]
  },
  {
   "cell_type": "markdown",
   "id": "b3ccb256",
   "metadata": {},
   "source": [
    "From the illustration above, females are more than males. They also showed up a lot more than the males."
   ]
  },
  {
   "cell_type": "markdown",
   "id": "06aec707",
   "metadata": {},
   "source": [
    "<a id='conclusions'></a>\n",
    "## Conclusions"
   ]
  },
  {
   "cell_type": "markdown",
   "id": "09fffd2f",
   "metadata": {},
   "source": [
    "Missing values would influence the results of the analysis, since those rows will be dropped which will certainly lead to conclusions varying from when those values are provided."
   ]
  },
  {
   "cell_type": "markdown",
   "id": "74efd164",
   "metadata": {},
   "source": [
    "The neighbourhood has a significant effect on the chances of patients showing up, with the highest number coming from JARDIM CAMBURI."
   ]
  },
  {
   "cell_type": "markdown",
   "id": "0c4f61e8",
   "metadata": {},
   "source": [
    "According to the analysis, scholarship does not have a significant effect on the attendance rate of the patients"
   ]
  },
  {
   "cell_type": "markdown",
   "id": "cb92a60b",
   "metadata": {},
   "source": [
    "Patients that received a sms were less likely to show up based on the data analysed, which concludes that investigations should be made to identify what went wrong."
   ]
  },
  {
   "cell_type": "markdown",
   "id": "44210b26",
   "metadata": {},
   "source": [
    "Age has an influence as most of those that showed were adults with the old ones showing up the least number of times, probably due to their mobility disadvantage or no one being there to help them."
   ]
  },
  {
   "cell_type": "markdown",
   "id": "d1933b23",
   "metadata": {},
   "source": [
    "## Limitations"
   ]
  },
  {
   "cell_type": "markdown",
   "id": "3d3da829",
   "metadata": {},
   "source": [
    "Complete conclusions cannot be provided with the limited features given as more features would provide extra insights or give more reasons for patients showing up or not."
   ]
  }
 ],
 "metadata": {
  "kernelspec": {
   "display_name": "Python 3 (ipykernel)",
   "language": "python",
   "name": "python3"
  },
  "language_info": {
   "codemirror_mode": {
    "name": "ipython",
    "version": 3
   },
   "file_extension": ".py",
   "mimetype": "text/x-python",
   "name": "python",
   "nbconvert_exporter": "python",
   "pygments_lexer": "ipython3",
   "version": "3.9.12"
  }
 },
 "nbformat": 4,
 "nbformat_minor": 5
}
